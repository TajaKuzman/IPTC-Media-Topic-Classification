{
 "cells": [
  {
   "cell_type": "code",
   "execution_count": null,
   "metadata": {},
   "outputs": [],
   "source": [
    "import pandas as pd\n",
    "from openai import OpenAI\n",
    "from tqdm import tqdm\n",
    "client = OpenAI(api_key=open('key.txt').read())"
   ]
  },
  {
   "cell_type": "markdown",
   "metadata": {},
   "source": [
    "## Develop samples of training data and test data"
   ]
  },
  {
   "cell_type": "code",
   "execution_count": null,
   "metadata": {},
   "outputs": [],
   "source": [
    "# Open jsonl file, annotated with `data-development-code/1-annotate-with-gpt4o-and-split-training-samples.ipynb`\n",
    "\n",
    "lang = \"ca\"\n",
    "\n",
    "# Define file path\n",
    "file_path = \"\"\n",
    "\n",
    "df = pd.read_json(\"{}\".format(file_path), orient=\"records\", lines=True)\n",
    "\n",
    "\n",
    "print(df.shape)\n",
    "\n",
    "display(df.head())"
   ]
  },
  {
   "cell_type": "markdown",
   "metadata": {},
   "source": [
    "### Create a smaller sample for annotation"
   ]
  },
  {
   "cell_type": "markdown",
   "metadata": {},
   "source": [
    "I'll create two batches - first batch of 200 instances and second batch of 100 additional instances. Both have to be balanced by labels.\n",
    "\n",
    "First batch: 12 instances per label -> 204 instances\n",
    "\n",
    "Second batch: 6 instances per label -> 102 instances"
   ]
  },
  {
   "cell_type": "code",
   "execution_count": null,
   "metadata": {},
   "outputs": [],
   "source": [
    "label_dict = {'disaster, accident and emergency incident': 0,\n",
    " 'human interest': 1,\n",
    " 'politics': 2,\n",
    " 'education': 3,\n",
    " 'crime, law and justice': 4,\n",
    " 'economy, business and finance': 5,\n",
    " 'conflict, war and peace': 6,\n",
    " 'arts, culture, entertainment and media': 7,\n",
    " 'labour': 8,\n",
    " 'weather': 9,\n",
    " 'religion': 10,\n",
    " 'society': 11,\n",
    " 'health': 12,\n",
    " 'environment': 13,\n",
    " 'lifestyle and leisure': 14,\n",
    " 'science and technology': 15,\n",
    " 'sport': 16}\n",
    "\n",
    "reverse_dict = {x[0]:x[1] for x in enumerate(list(label_dict.keys()))}"
   ]
  },
  {
   "cell_type": "code",
   "execution_count": 45,
   "metadata": {},
   "outputs": [
    {
     "data": {
      "text/html": [
       "<div>\n",
       "<style scoped>\n",
       "    .dataframe tbody tr th:only-of-type {\n",
       "        vertical-align: middle;\n",
       "    }\n",
       "\n",
       "    .dataframe tbody tr th {\n",
       "        vertical-align: top;\n",
       "    }\n",
       "\n",
       "    .dataframe thead th {\n",
       "        text-align: right;\n",
       "    }\n",
       "</style>\n",
       "<table border=\"1\" class=\"dataframe\">\n",
       "  <thead>\n",
       "    <tr style=\"text-align: right;\">\n",
       "      <th></th>\n",
       "      <th>document_id</th>\n",
       "      <th>text</th>\n",
       "      <th>genre</th>\n",
       "      <th>IPTC_pred</th>\n",
       "    </tr>\n",
       "  </thead>\n",
       "  <tbody>\n",
       "    <tr>\n",
       "      <th>1261</th>\n",
       "      <td>21455</td>\n",
       "      <td>BRAINWASHED: One-third of Americans say conser...</td>\n",
       "      <td>News</td>\n",
       "      <td>politics</td>\n",
       "    </tr>\n",
       "    <tr>\n",
       "      <th>1569</th>\n",
       "      <td>28499</td>\n",
       "      <td>Almost one million young people are not in edu...</td>\n",
       "      <td>News</td>\n",
       "      <td>labour</td>\n",
       "    </tr>\n",
       "    <tr>\n",
       "      <th>1557</th>\n",
       "      <td>129304</td>\n",
       "      <td>Nocturne A storytelling show that explores the...</td>\n",
       "      <td>News</td>\n",
       "      <td>politics</td>\n",
       "    </tr>\n",
       "    <tr>\n",
       "      <th>1752</th>\n",
       "      <td>120192</td>\n",
       "      <td>We focus on women’s rights in the workplace, r...</td>\n",
       "      <td>News</td>\n",
       "      <td>labour</td>\n",
       "    </tr>\n",
       "    <tr>\n",
       "      <th>571</th>\n",
       "      <td>177755</td>\n",
       "      <td>NEBRASKAland Associate Editor Jenny Nguyen-Whe...</td>\n",
       "      <td>News</td>\n",
       "      <td>lifestyle and leisure</td>\n",
       "    </tr>\n",
       "  </tbody>\n",
       "</table>\n",
       "</div>"
      ],
      "text/plain": [
       "      document_id                                               text genre  \\\n",
       "1261        21455  BRAINWASHED: One-third of Americans say conser...  News   \n",
       "1569        28499  Almost one million young people are not in edu...  News   \n",
       "1557       129304  Nocturne A storytelling show that explores the...  News   \n",
       "1752       120192  We focus on women’s rights in the workplace, r...  News   \n",
       "571        177755  NEBRASKAland Associate Editor Jenny Nguyen-Whe...  News   \n",
       "\n",
       "                  IPTC_pred  \n",
       "1261               politics  \n",
       "1569                 labour  \n",
       "1557               politics  \n",
       "1752                 labour  \n",
       "571   lifestyle and leisure  "
      ]
     },
     "execution_count": 45,
     "metadata": {},
     "output_type": "execute_result"
    }
   ],
   "source": [
    "# Create the first batch\n",
    "\n",
    "label_sample_size = 12\n",
    "\n",
    "labels_list=list(label_dict.keys())\n",
    "\n",
    "# First create the initial df to which all others in the loop will be added\n",
    "final_sample = df[df[\"IPTC_pred\"] == labels_list[0]].sample(n=label_sample_size)\n",
    "\n",
    "# Add all other labels\n",
    "remaining_list = labels_list[1:]\n",
    "\n",
    "for i in remaining_list:\n",
    "\t# First get a number of remaining instances of this label\n",
    "\tlabel_instances_number = df[df[\"IPTC_pred\"] == i].shape[0]\n",
    "\t# If there is less instances of this label than 12, take as many as there are\n",
    "\tif label_instances_number >= 12:\n",
    "\t\ttry:\n",
    "\t\t\tadded_instances = df[df[\"IPTC_pred\"] == i].sample(n=label_sample_size)\n",
    "\t\t\tfinal_sample = pd.concat([final_sample, added_instances])\n",
    "\t\texcept:\n",
    "\t\t\tprint(df[df[\"IPTC_pred\"] == i][:2].to_markdown())\n",
    "\telse:\n",
    "\t\ttry:\n",
    "\t\t\tadded_instances = df[df[\"IPTC_pred\"] == i].sample(n=label_instances_number)\n",
    "\t\t\tfinal_sample = pd.concat([final_sample, added_instances])\n",
    "\t\texcept:\n",
    "\t\t\tprint(df[df[\"IPTC_pred\"] == i][:2].to_markdown())\n",
    "\n",
    "# Shuffle rows\n",
    "final_sample = final_sample.sample(frac=1)\n",
    "\n",
    "final_sample.head()"
   ]
  },
  {
   "cell_type": "code",
   "execution_count": 46,
   "metadata": {},
   "outputs": [
    {
     "data": {
      "text/plain": [
       "(198, 4)"
      ]
     },
     "execution_count": 46,
     "metadata": {},
     "output_type": "execute_result"
    }
   ],
   "source": [
    "final_sample.shape"
   ]
  },
  {
   "cell_type": "code",
   "execution_count": 47,
   "metadata": {},
   "outputs": [
    {
     "data": {
      "text/plain": [
       "IPTC_pred\n",
       "politics                                     12\n",
       "labour                                       12\n",
       "lifestyle and leisure                        12\n",
       "environment                                  12\n",
       "science and technology                       12\n",
       "crime, law and justice                       12\n",
       "human interest                               12\n",
       "arts, culture, entertainment and media       12\n",
       "disaster, accident and emergency incident    12\n",
       "religion                                     12\n",
       "health                                       12\n",
       "economy, business and finance                12\n",
       "society                                      12\n",
       "education                                    12\n",
       "sport                                        12\n",
       "conflict, war and peace                      12\n",
       "weather                                       6\n",
       "Name: count, dtype: int64"
      ]
     },
     "execution_count": 47,
     "metadata": {},
     "output_type": "execute_result"
    }
   ],
   "source": [
    "final_sample[\"IPTC_pred\"].value_counts()"
   ]
  },
  {
   "cell_type": "code",
   "execution_count": null,
   "metadata": {},
   "outputs": [],
   "source": [
    "# Save the sample\n",
    "\n",
    "final_sample.to_csv(\"{}-for-annotation.csv\".format(file_path))"
   ]
  },
  {
   "cell_type": "markdown",
   "metadata": {},
   "source": [
    "#### Second sample\n",
    "\n"
   ]
  },
  {
   "cell_type": "code",
   "execution_count": 49,
   "metadata": {},
   "outputs": [
    {
     "name": "stdout",
     "output_type": "stream",
     "text": [
      "first_batch\n",
      "no     1802\n",
      "yes     198\n",
      "Name: count, dtype: int64\n"
     ]
    },
    {
     "data": {
      "text/html": [
       "<div>\n",
       "<style scoped>\n",
       "    .dataframe tbody tr th:only-of-type {\n",
       "        vertical-align: middle;\n",
       "    }\n",
       "\n",
       "    .dataframe tbody tr th {\n",
       "        vertical-align: top;\n",
       "    }\n",
       "\n",
       "    .dataframe thead th {\n",
       "        text-align: right;\n",
       "    }\n",
       "</style>\n",
       "<table border=\"1\" class=\"dataframe\">\n",
       "  <thead>\n",
       "    <tr style=\"text-align: right;\">\n",
       "      <th></th>\n",
       "      <th>document_id</th>\n",
       "      <th>text</th>\n",
       "      <th>genre</th>\n",
       "      <th>IPTC_pred</th>\n",
       "      <th>first_batch</th>\n",
       "    </tr>\n",
       "  </thead>\n",
       "  <tbody>\n",
       "    <tr>\n",
       "      <th>0</th>\n",
       "      <td>89787</td>\n",
       "      <td>A fast food meal doesn’t have to be unhealthy....</td>\n",
       "      <td>News</td>\n",
       "      <td>health</td>\n",
       "      <td>no</td>\n",
       "    </tr>\n",
       "    <tr>\n",
       "      <th>1</th>\n",
       "      <td>116609</td>\n",
       "      <td>WE WILL NOT BE BEAT PERIOD!* *Consumer must pr...</td>\n",
       "      <td>News</td>\n",
       "      <td>education</td>\n",
       "      <td>no</td>\n",
       "    </tr>\n",
       "  </tbody>\n",
       "</table>\n",
       "</div>"
      ],
      "text/plain": [
       "   document_id                                               text genre  \\\n",
       "0        89787  A fast food meal doesn’t have to be unhealthy....  News   \n",
       "1       116609  WE WILL NOT BE BEAT PERIOD!* *Consumer must pr...  News   \n",
       "\n",
       "   IPTC_pred first_batch  \n",
       "0     health          no  \n",
       "1  education          no  "
      ]
     },
     "execution_count": 49,
     "metadata": {},
     "output_type": "execute_result"
    }
   ],
   "source": [
    "# Get a list of ids in the first batch\n",
    "first_batch_ids = final_sample[\"document_id\"].to_list()\n",
    "\n",
    "first_batch = []\n",
    "\n",
    "for doc in df[\"document_id\"].to_list():\n",
    "\tif doc in first_batch_ids:\n",
    "\t\tfirst_batch.append(\"yes\")\n",
    "\telse:\n",
    "\t\tfirst_batch.append(\"no\")\n",
    "\n",
    "df[\"first_batch\"] = first_batch\n",
    "\n",
    "print(df[\"first_batch\"].value_counts())\n",
    "\n",
    "df.head(2)"
   ]
  },
  {
   "cell_type": "code",
   "execution_count": 50,
   "metadata": {},
   "outputs": [
    {
     "data": {
      "text/plain": [
       "(1802, 5)"
      ]
     },
     "execution_count": 50,
     "metadata": {},
     "output_type": "execute_result"
    }
   ],
   "source": [
    "# Now filter out instances from the first batch\n",
    "\n",
    "df_wth_first_batch = df[df[\"first_batch\"] == \"no\"]\n",
    "\n",
    "df_wth_first_batch.shape"
   ]
  },
  {
   "cell_type": "code",
   "execution_count": 51,
   "metadata": {},
   "outputs": [
    {
     "name": "stdout",
     "output_type": "stream",
     "text": [
      "(96, 5)\n"
     ]
    },
    {
     "data": {
      "text/html": [
       "<div>\n",
       "<style scoped>\n",
       "    .dataframe tbody tr th:only-of-type {\n",
       "        vertical-align: middle;\n",
       "    }\n",
       "\n",
       "    .dataframe tbody tr th {\n",
       "        vertical-align: top;\n",
       "    }\n",
       "\n",
       "    .dataframe thead th {\n",
       "        text-align: right;\n",
       "    }\n",
       "</style>\n",
       "<table border=\"1\" class=\"dataframe\">\n",
       "  <thead>\n",
       "    <tr style=\"text-align: right;\">\n",
       "      <th></th>\n",
       "      <th>document_id</th>\n",
       "      <th>text</th>\n",
       "      <th>genre</th>\n",
       "      <th>IPTC_pred</th>\n",
       "      <th>first_batch</th>\n",
       "    </tr>\n",
       "  </thead>\n",
       "  <tbody>\n",
       "    <tr>\n",
       "      <th>608</th>\n",
       "      <td>77745</td>\n",
       "      <td>THE PHILIPPINE National Police is continuously...</td>\n",
       "      <td>News</td>\n",
       "      <td>politics</td>\n",
       "      <td>no</td>\n",
       "    </tr>\n",
       "    <tr>\n",
       "      <th>975</th>\n",
       "      <td>183886</td>\n",
       "      <td>We have all been there – you push your body to...</td>\n",
       "      <td>News</td>\n",
       "      <td>lifestyle and leisure</td>\n",
       "      <td>no</td>\n",
       "    </tr>\n",
       "    <tr>\n",
       "      <th>1504</th>\n",
       "      <td>165144</td>\n",
       "      <td>Articles, stories, essays, editorials, news an...</td>\n",
       "      <td>News</td>\n",
       "      <td>environment</td>\n",
       "      <td>no</td>\n",
       "    </tr>\n",
       "    <tr>\n",
       "      <th>713</th>\n",
       "      <td>75322</td>\n",
       "      <td>Monday, June 10 is National Iced Tea Day. In h...</td>\n",
       "      <td>News</td>\n",
       "      <td>crime, law and justice</td>\n",
       "      <td>no</td>\n",
       "    </tr>\n",
       "    <tr>\n",
       "      <th>1480</th>\n",
       "      <td>75999</td>\n",
       "      <td>Govt Jobs in District Health Authority Sargodh...</td>\n",
       "      <td>News</td>\n",
       "      <td>labour</td>\n",
       "      <td>no</td>\n",
       "    </tr>\n",
       "  </tbody>\n",
       "</table>\n",
       "</div>"
      ],
      "text/plain": [
       "      document_id                                               text genre  \\\n",
       "608         77745  THE PHILIPPINE National Police is continuously...  News   \n",
       "975        183886  We have all been there – you push your body to...  News   \n",
       "1504       165144  Articles, stories, essays, editorials, news an...  News   \n",
       "713         75322  Monday, June 10 is National Iced Tea Day. In h...  News   \n",
       "1480        75999  Govt Jobs in District Health Authority Sargodh...  News   \n",
       "\n",
       "                   IPTC_pred first_batch  \n",
       "608                 politics          no  \n",
       "975    lifestyle and leisure          no  \n",
       "1504             environment          no  \n",
       "713   crime, law and justice          no  \n",
       "1480                  labour          no  "
      ]
     },
     "execution_count": 51,
     "metadata": {},
     "output_type": "execute_result"
    }
   ],
   "source": [
    "# Create the second batch\n",
    "\n",
    "label_sample_size = 6\n",
    "\n",
    "labels_list=list(label_dict.keys())\n",
    "\n",
    "# First create the initial df to which all others in the loop will be added\n",
    "second_batch = df_wth_first_batch[df_wth_first_batch[\"IPTC_pred\"] == labels_list[0]].sample(n=label_sample_size)\n",
    "\n",
    "# Add all other labels\n",
    "remaining_list = labels_list[1:]\n",
    "\n",
    "for i in remaining_list:\n",
    "\t# First get a number of remaining instances of this label\n",
    "\tlabel_instances_number = df_wth_first_batch[df_wth_first_batch[\"IPTC_pred\"] == i].shape[0]\n",
    "\t# If there is less instances of this label than 6, take as many as there are\n",
    "\tif label_instances_number >= 6:\n",
    "\t\ttry:\n",
    "\t\t\tadded_instances = df_wth_first_batch[df_wth_first_batch[\"IPTC_pred\"] == i].sample(n=label_sample_size)\n",
    "\t\t\tsecond_batch = pd.concat([second_batch, added_instances])\n",
    "\t\texcept:\n",
    "\t\t\tprint(df_wth_first_batch[df_wth_first_batch[\"IPTC_pred\"] == i][:2].to_markdown())\n",
    "\telif label_instances_number == 0:\n",
    "\t\tcontinue\n",
    "\telse:\n",
    "\t\ttry:\n",
    "\t\t\tadded_instances = df_wth_first_batch[df_wth_first_batch[\"IPTC_pred\"] == i].sample(n=label_instances_number)\n",
    "\t\t\tsecond_batch = pd.concat([second_batch, added_instances])\n",
    "\t\texcept:\n",
    "\t\t\tprint(df_wth_first_batch[df_wth_first_batch[\"IPTC_pred\"] == i][:2].to_markdown())\n",
    "\n",
    "# Shuffle rows\n",
    "second_batch = second_batch.sample(frac=1)\n",
    "\n",
    "print(second_batch.shape)\n",
    "\n",
    "second_batch.head()"
   ]
  },
  {
   "cell_type": "code",
   "execution_count": 52,
   "metadata": {},
   "outputs": [
    {
     "data": {
      "text/html": [
       "<div>\n",
       "<style scoped>\n",
       "    .dataframe tbody tr th:only-of-type {\n",
       "        vertical-align: middle;\n",
       "    }\n",
       "\n",
       "    .dataframe tbody tr th {\n",
       "        vertical-align: top;\n",
       "    }\n",
       "\n",
       "    .dataframe thead th {\n",
       "        text-align: right;\n",
       "    }\n",
       "</style>\n",
       "<table border=\"1\" class=\"dataframe\">\n",
       "  <thead>\n",
       "    <tr style=\"text-align: right;\">\n",
       "      <th></th>\n",
       "      <th>document_id</th>\n",
       "      <th>text</th>\n",
       "      <th>genre</th>\n",
       "      <th>IPTC_pred</th>\n",
       "    </tr>\n",
       "  </thead>\n",
       "  <tbody>\n",
       "    <tr>\n",
       "      <th>608</th>\n",
       "      <td>77745</td>\n",
       "      <td>THE PHILIPPINE National Police is continuously...</td>\n",
       "      <td>News</td>\n",
       "      <td>politics</td>\n",
       "    </tr>\n",
       "    <tr>\n",
       "      <th>975</th>\n",
       "      <td>183886</td>\n",
       "      <td>We have all been there – you push your body to...</td>\n",
       "      <td>News</td>\n",
       "      <td>lifestyle and leisure</td>\n",
       "    </tr>\n",
       "  </tbody>\n",
       "</table>\n",
       "</div>"
      ],
      "text/plain": [
       "     document_id                                               text genre  \\\n",
       "608        77745  THE PHILIPPINE National Police is continuously...  News   \n",
       "975       183886  We have all been there – you push your body to...  News   \n",
       "\n",
       "                 IPTC_pred  \n",
       "608               politics  \n",
       "975  lifestyle and leisure  "
      ]
     },
     "execution_count": 52,
     "metadata": {},
     "output_type": "execute_result"
    }
   ],
   "source": [
    "# Remove the first_batch column\n",
    "second_batch.drop(columns=['first_batch'], inplace=True)\n",
    "second_batch.head(2)"
   ]
  },
  {
   "cell_type": "code",
   "execution_count": 53,
   "metadata": {},
   "outputs": [
    {
     "data": {
      "text/plain": [
       "IPTC_pred\n",
       "politics                                     6\n",
       "lifestyle and leisure                        6\n",
       "environment                                  6\n",
       "crime, law and justice                       6\n",
       "labour                                       6\n",
       "society                                      6\n",
       "religion                                     6\n",
       "education                                    6\n",
       "sport                                        6\n",
       "disaster, accident and emergency incident    6\n",
       "human interest                               6\n",
       "conflict, war and peace                      6\n",
       "health                                       6\n",
       "arts, culture, entertainment and media       6\n",
       "science and technology                       6\n",
       "economy, business and finance                6\n",
       "Name: count, dtype: int64"
      ]
     },
     "execution_count": 53,
     "metadata": {},
     "output_type": "execute_result"
    }
   ],
   "source": [
    "second_batch[\"IPTC_pred\"].value_counts()"
   ]
  },
  {
   "cell_type": "code",
   "execution_count": null,
   "metadata": {},
   "outputs": [],
   "source": [
    "# Save the sample\n",
    "second_batch.to_csv(\"{}-for-additional-annotation.csv\".format(file_path))"
   ]
  }
 ],
 "metadata": {
  "kernelspec": {
   "display_name": "IPTC_env",
   "language": "python",
   "name": "python3"
  },
  "language_info": {
   "codemirror_mode": {
    "name": "ipython",
    "version": 3
   },
   "file_extension": ".py",
   "mimetype": "text/x-python",
   "name": "python",
   "nbconvert_exporter": "python",
   "pygments_lexer": "ipython3",
   "version": "3.11.10"
  }
 },
 "nbformat": 4,
 "nbformat_minor": 2
}
